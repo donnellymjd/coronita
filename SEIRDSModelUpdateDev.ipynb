{
 "cells": [
  {
   "cell_type": "code",
   "execution_count": 1,
   "metadata": {},
   "outputs": [
    {
     "name": "stdout",
     "output_type": "stream",
     "text": [
      "Available Themes: \r\n",
      "   chesterish\r\n",
      "   grade3\r\n",
      "   gruvboxd\r\n",
      "   gruvboxl\r\n",
      "   monokai\r\n",
      "   oceans16\r\n",
      "   onedork\r\n",
      "   solarizedd\r\n",
      "   solarizedl\r\n"
     ]
    }
   ],
   "source": [
    "!jt -l"
   ]
  },
  {
   "cell_type": "code",
   "execution_count": 2,
   "metadata": {},
   "outputs": [
    {
     "name": "stdout",
     "output_type": "stream",
     "text": [
      "Reset css and font defaults in:\r\n",
      "/Users/mdonnelly/.jupyter/custom &\r\n",
      "/Users/mdonnelly/Library/Jupyter/nbextensions\r\n"
     ]
    }
   ],
   "source": [
    "# !jt -t monokai\n",
    "!jt -r"
   ]
  },
  {
   "cell_type": "code",
   "execution_count": 3,
   "metadata": {},
   "outputs": [],
   "source": [
    "#!/usr/bin/env python\n",
    "# coding: utf-8\n",
    "\n",
    "import pandas as pd\n",
    "import numpy as np\n",
    "import os, time, stat, io, glob, pickle\n",
    "from scipy.stats import gamma, norm\n",
    "from scipy.integrate import odeint\n",
    "import matplotlib.pyplot as plt\n",
    "\n",
    "from covid_data_helper import *\n",
    "from coronita_model_helper import *\n",
    "%load_ext autoreload\n",
    "%autoreload 2"
   ]
  },
  {
   "cell_type": "code",
   "execution_count": 4,
   "metadata": {},
   "outputs": [],
   "source": [
    "# ## DATA INGESTION ##\n",
    "\n",
    "# df_st_testing = get_covid19_tracking_data()\n",
    "\n",
    "# df_census = get_census_pop()\n",
    "\n",
    "# df_counties = get_complete_county_data()\n",
    "\n",
    "# counties_geo = get_counties_geo()\n",
    "\n",
    "# df_jhu_counties = get_jhu_counties()\n",
    "\n",
    "# df_st_testing_fmt = df_st_testing.copy()\n",
    "# df_st_testing_fmt = df_st_testing_fmt.rename(columns={'death':'deaths','positive':'cases'}).unstack('code')\n",
    "\n",
    "# df_interventions = get_state_policy_events()\n",
    "\n",
    "# df_goog_mob_us = get_goog_mvmt_us()\n",
    "# df_goog_mob_state = get_goog_mvmt_state(df_goog_mob_us)\n",
    "# df_goog_mob_us = df_goog_mob_us[df_goog_mob_us.state.isnull()].set_index('dt')\n",
    "\n",
    "# #######################"
   ]
  },
  {
   "cell_type": "code",
   "execution_count": 5,
   "metadata": {},
   "outputs": [
    {
     "name": "stdout",
     "output_type": "stream",
     "text": [
      "./output/allstate_model_dicts_20210103.pkl\n"
     ]
    }
   ],
   "source": [
    "list_of_files = glob.glob('./output/allstate_model_dicts_*.pkl') # * means all if need specific format then *.csv\n",
    "latest_file = max(list_of_files, key=os.path.getctime)\n",
    "print(latest_file)\n",
    "with open(latest_file, 'rb') as handle:\n",
    "    allstate_model_dicts = pickle.load(handle)\n",
    "    "
   ]
  },
  {
   "cell_type": "code",
   "execution_count": 6,
   "metadata": {},
   "outputs": [],
   "source": [
    "# l_states_to_fore = df_census.state.unique()\n",
    "l_states_to_fore = ['NY']"
   ]
  },
  {
   "cell_type": "code",
   "execution_count": 7,
   "metadata": {},
   "outputs": [
    {
     "name": "stdout",
     "output_type": "stream",
     "text": [
      "last forecast:  ./output/df_fore_allstates_20210103.pkl\n"
     ]
    }
   ],
   "source": [
    "## MODEL PARAMETERS ##\n",
    "\n",
    "covid_params = {}\n",
    "covid_params['d_incub'] = 3.\n",
    "covid_params['d_infect'] = 4.\n",
    "covid_params['mort_rt'] = 0.01\n",
    "covid_params['d_in_hosp'] = 11\n",
    "covid_params['hosp_rt'] = 0.04\n",
    "covid_params['d_to_hosp'] = 7.0\n",
    "covid_params['d_in_hosp_mild'] = 11.0\n",
    "covid_params['icu_rt'] = 13./41.\n",
    "covid_params['d_in_icu'] = 13.0\n",
    "covid_params['vent_rt'] = 0.4\n",
    "covid_params['d_til_death'] =  17.0\n",
    "covid_params['policy_trigger'] = True\n",
    "covid_params['policy_trigger_once'] = True\n",
    "days_to_forecast = 150\n",
    "\n",
    "#######################\n",
    "\n",
    "### RUN MODEL ###\n",
    "df_fore_allstates = pd.DataFrame()\n",
    "\n",
    "try:\n",
    "    list_of_files = glob.glob('./output/df_fore_allstates_*.pkl') # * means all if need specific format then *.csv\n",
    "    latest_file = max(list_of_files, key=os.path.getctime)\n",
    "    print('last forecast: ', latest_file)\n",
    "    df_prevfore_allstates = pd.read_pickle(latest_file)\n",
    "except:\n",
    "    if 'df_fore_allstates' in globals().keys():\n",
    "        if df_fore_allstates.shape[0] > 0:\n",
    "            df_prevfore_allstates = df_fore_allstates.copy()"
   ]
  },
  {
   "cell_type": "code",
   "execution_count": 8,
   "metadata": {},
   "outputs": [],
   "source": [
    "# allstate_model_dicts['ND']['df_all_cohorts'\n",
    "#                           ].loc[:,:'2020-12-20'].sum(axis=1).unstack('metric').iloc[-270:-120].plot()\n",
    "# # allstate_model_dicts['ND']['df_agg']\n"
   ]
  },
  {
   "cell_type": "code",
   "execution_count": null,
   "metadata": {},
   "outputs": [],
   "source": []
  },
  {
   "cell_type": "code",
   "execution_count": 9,
   "metadata": {},
   "outputs": [],
   "source": [
    "# state= 'ND'\n",
    "\n",
    "# model_dict = make_model_dict_state(state, abbrev_us_state, df_census, df_st_testing_fmt,\n",
    "#                                    covid_params, days_to_forecast,\n",
    "#                                    df_mvmt=df_goog_mob_state\n",
    "#                                  , df_interventions=df_interventions\n",
    "#                                   )\n",
    "\n",
    "# this_reg_df_rts = pd.DataFrame(model_dict['df_rts'].stack(), columns=[state])\n",
    "# this_reg_df_wavg = pd.DataFrame(\n",
    "#     model_dict['df_rts_conf'].sort_index().unstack('metric')['weighted_average'].stack(), columns=[state])\n",
    "\n",
    "# # df_rts_allregs = pd.concat([df_rts_allregs, this_reg_df_rts], axis=1)\n",
    "# # df_wavg_rt_conf_allregs = pd.concat([df_wavg_rt_conf_allregs, this_reg_df_wavg], axis=1)\n",
    "\n",
    "# try:\n",
    "#     first_guess = df_prevfore_allstates[state].first_valid_index()[0]\n",
    "# except:\n",
    "#     first_guess = pd.Timestamp('2020-02-17')\n",
    "\n",
    "# model_dict = model_find_start(first_guess, model_dict)\n",
    "# df_agg = model_dict['df_agg']\n",
    "# df_all_cohorts = model_dict['df_all_cohorts']\n",
    "\n",
    "# print('Peak Hospitalization Date: ', df_agg.hospitalized.idxmax().strftime(\"%d %b, %Y\"))\n",
    "# print('Peak Hospitalization #: {:.0f}'.format(df_agg.hospitalized.max()))\n",
    "# print('Peak ICU #: {:.0f}'.format(df_agg.icu.max()))\n",
    "# print('Peak Ventilator #: {:.0f}'.format(df_agg.vent.max()))\n",
    "\n",
    "# model_dict['chart_title'] = r'No Change in Future $R_{t}$ Until 20% Hospital Capacity Trigger'"
   ]
  },
  {
   "cell_type": "code",
   "execution_count": 10,
   "metadata": {},
   "outputs": [],
   "source": [
    "def ode_model(z, t, beta, sigma, gamma, mu):\n",
    "    \"\"\"\n",
    "    Reference https://www.idmod.org/docs/hiv/model-seir.html\n",
    "    \"\"\"\n",
    "    S, E, I, R, D = z\n",
    "    N = S + E + I + R + D\n",
    "    dSdt = -beta*S*I/N\n",
    "    dEdt = beta*S*I/N - sigma*E\n",
    "    dIdt = sigma*E - gamma*I - mu*I\n",
    "    dRdt = gamma*I\n",
    "    dDdt = mu*I\n",
    "    return [dSdt, dEdt, dIdt, dRdt, dDdt]\n",
    "\n",
    "def ode_solver(t, initial_conditions, covid_params):\n",
    "    initE, initI, initR, initN, initD = initial_conditions\n",
    "    beta, sigma, gamma, mu = params['beta'].value, params['sigma'].value, params['gamma'].value, params['mu'].value\n",
    "    initS = initN - (initE + initI + initR + initD)\n",
    "    res = odeint(ode_model, [initS, initE, initI, initR, initD], t, args=(beta, sigma, gamma, mu))\n",
    "    return res\n",
    "\n"
   ]
  },
  {
   "cell_type": "code",
   "execution_count": 11,
   "metadata": {},
   "outputs": [
    {
     "data": {
      "text/plain": [
       "2020-02-21    3.611777\n",
       "2020-02-22    3.485018\n",
       "2020-02-23    3.307005\n",
       "2020-02-24    3.103131\n",
       "2020-02-25    2.883455\n",
       "                ...   \n",
       "2020-12-22    1.175735\n",
       "2020-12-23    1.213852\n",
       "2020-12-24    1.244719\n",
       "2020-12-25    1.265182\n",
       "2020-12-26    1.275025\n",
       "Freq: D, Name: weighted_average, Length: 310, dtype: float64"
      ]
     },
     "execution_count": 11,
     "metadata": {},
     "output_type": "execute_result"
    }
   ],
   "source": [
    "allstate_model_dicts['NY']['df_rts']['weighted_average'].dropna()"
   ]
  },
  {
   "cell_type": "code",
   "execution_count": 12,
   "metadata": {},
   "outputs": [],
   "source": [
    "model_dict = allstate_model_dicts['NY'].copy()\n"
   ]
  },
  {
   "cell_type": "markdown",
   "metadata": {},
   "source": [
    "## Basic Non-Cohort Version"
   ]
  },
  {
   "cell_type": "code",
   "execution_count": 13,
   "metadata": {},
   "outputs": [
    {
     "name": "stdout",
     "output_type": "stream",
     "text": [
      "N           3.864574e-01\n",
      "E           7.462370e+04\n",
      "E_new       6.598440e+00\n",
      "I_Mild      9.685556e+05\n",
      "I_Sev       1.297316e+05\n",
      "I_Fatal     4.324387e+04\n",
      "H_Sev       5.118172e+05\n",
      "H_Fatal     2.668150e+05\n",
      "H_Admits    2.858052e+04\n",
      "R           9.731612e+07\n",
      "D           6.891959e+05\n",
      "Name: 2021-05-20 23:00:00, dtype: float64\n"
     ]
    },
    {
     "data": {
      "image/png": "[encoded data removed]",
      "text/plain": [
       "<Figure size 432x288 with 1 Axes>"
      ]
     },
     "metadata": {
      "needs_background": "light"
     },
     "output_type": "display_data"
    }
   ],
   "source": [
    "def noncohort_ode_model(z, t_, r_ts, covid_params):\n",
    "    S, E, E_new, I_Mild, I_Sev, I_Fatal, H_Sev, H_Fatal, H_Admits, R, D = z\n",
    "    N = S + E + I_Mild + I_Sev + I_Fatal + H_Sev + H_Fatal + R + D\n",
    "    I = I_Mild + I_Sev + I_Fatal\n",
    "    H = H_Sev + H_Fatal\n",
    "    \n",
    "    \n",
    "    if int(t_) < r_ts.shape[0]:\n",
    "        try:\n",
    "            r_t = r_ts.iloc[int(t_)]\n",
    "        except:\n",
    "            print(int(t_))\n",
    "    else:\n",
    "        r_t = r_ts.iloc[-1]\n",
    "\n",
    "    ## FLOWS ##\n",
    "    \n",
    "    _sigma = 1/covid_params['d_incub']\n",
    "    _gamma = 1/covid_params['d_infect']\n",
    "    _beta = r_t * _gamma\n",
    "    _nu = 1/covid_params['d_to_hosp']\n",
    "    _rho = 1/covid_params['d_in_hosp']\n",
    "    _mu = 1/covid_params['d_til_death']\n",
    "    \n",
    "    p_fatal = covid_params['mort_rt']\n",
    "    p_recov_sev = covid_params['hosp_rt'] - covid_params['mort_rt']\n",
    "    p_recov_mild = 1 - covid_params['hosp_rt']\n",
    "\n",
    "    dSdt = -min(_beta*I, S) #-_beta*S*I/N\n",
    "    dEdt = min(_beta*I, S) - _sigma*E #_beta*S*I/N - _sigma*E\n",
    "    E_new = min(_beta*I, S) - E_new\n",
    "    \n",
    "    dI_Milddt = p_recov_mild*_sigma*E - _gamma*I_Mild\n",
    "    dI_Sevdt = p_recov_sev*_sigma*E - _nu*I_Sev\n",
    "    dI_Fataldt = p_fatal*_sigma*E - _nu*I_Fatal\n",
    "    \n",
    "    dH_Sevdt = _nu*I_Sev - _rho*H_Sev\n",
    "    dH_Fataldt = _nu*I_Fatal - _mu*H_Fatal\n",
    "    H_Admits = _nu*I_Sev + _nu*I_Fatal - H_Admits\n",
    "    \n",
    "    dRdt = _gamma*I_Mild + _rho*H_Sev\n",
    "    dDdt = _mu*H_Fatal\n",
    "    return [dSdt, dEdt, E_new, dI_Milddt, dI_Sevdt, dI_Fataldt, dH_Sevdt, dH_Fataldt, H_Admits, dRdt, dDdt]\n",
    "\n",
    "start_dt = '2020-02-05 11:00'\n",
    "end_dt = '2021-05-21'\n",
    "days = (pd.Timestamp(end_dt) - pd.Timestamp(start_dt)).total_seconds() / (24 * 60 * 60)\n",
    "hrs_per_point = 6\n",
    "granularity = hrs_per_point/24.\n",
    "initN = 1e8\n",
    "initE, E_new = 1e2, 1e2\n",
    "initI_Mild, initI_Sev, initI_Fatal = 0, 0, 0\n",
    "initH_Sev, initH_Fatal, initH_Admits = 0, 0, 0\n",
    "initR = 0\n",
    "initD = 0\n",
    "initial_conditions = [initN, initE, E_new,\n",
    "                      initI_Mild, initI_Sev, initI_Fatal, \n",
    "                      initH_Sev, initH_Fatal, initH_Admits, \n",
    "                      initR, initD]\n",
    "\n",
    "\n",
    "r_ts = model_dict['df_rts']['weighted_average'].dropna().reindex(\n",
    "    pd.date_range(start_dt,end_dt, freq=f'1D').normalize()).interpolate().fillna(method='ffill').fillna(method='bfill')\n",
    "r_ts.index = (r_ts.index - pd.Timestamp(start_dt)).days\n",
    "\n",
    "tspan = np.arange(0, days, granularity)\n",
    "# ode_r_ts = r_ts.interpolate()\n",
    "# ode_r_ts.index = tspan\n",
    "\n",
    "# r_ts = model_dict['df_rts']['weighted_average'].dropna().reindex(\n",
    "#     pd.date_range(start_dt,end_dt, freq=f'{hrs_per_point}H'))\n",
    "# ode_r_ts = r_ts.interpolate()\n",
    "# ode_r_ts.index = ode_r_ts.index.to_numpy().astype(int)\n",
    "# tspan = ode_r_ts.index\n",
    "\n",
    "sol = odeint(noncohort_ode_model, initial_conditions, tspan, args=(r_ts,covid_params,))\n",
    "\n",
    "df_sol = pd.DataFrame(sol, \n",
    "                      columns=['N', 'E', 'E_new', \n",
    "                               'I_Mild', 'I_Sev', 'I_Fatal', \n",
    "                               'H_Sev', 'H_Fatal', 'H_Admits', 'R','D'], \n",
    "                      index=pd.date_range(start_dt, end_dt, freq=f'{hrs_per_point}H'))\n",
    "# df_sol.plot(); plt.show()\n",
    "# df_sol.R.diff().plot(); plt.show()\n",
    "df_sol[['H_Sev','H_Fatal']].sum(axis=1).plot()\n",
    "model_dict['df_hist']['hosp_concur'].plot()\n",
    "\n",
    "print(df_sol.iloc[-1])\n",
    "\n"
   ]
  },
  {
   "cell_type": "markdown",
   "metadata": {},
   "source": [
    "## Main Non-Cohort Version with Minimization"
   ]
  },
  {
   "cell_type": "code",
   "execution_count": 14,
   "metadata": {},
   "outputs": [],
   "source": [
    "def noncohort_ode_model(z, t_, r_ts, params):\n",
    "    S, E, E_new, I_Mild, I_Sev, I_Fatal, H_Sev, H_Fatal, H_Admits, R, D = z\n",
    "    N = S + E + I_Mild + I_Sev + I_Fatal + H_Sev + H_Fatal + R + D\n",
    "    I = I_Mild + I_Sev + I_Fatal\n",
    "    H = H_Sev + H_Fatal\n",
    "    \n",
    "    try:\n",
    "        r_t = r_ts.loc[int(t_)]\n",
    "    except:\n",
    "        print(int(t_))\n",
    "\n",
    "    ## FLOWS ##\n",
    "    \n",
    "    _sigma = 1 / params['d_incub'].value\n",
    "    _gamma = 1 / params['d_infect'].value\n",
    "    _beta = r_t * _gamma\n",
    "    _nu = 1 / params['d_to_hosp'].value\n",
    "    _rho = 1 / params['d_in_hosp'].value\n",
    "    _mu = 1 / params['d_til_death'].value\n",
    "    \n",
    "    p_fatal = params['mort_rt'].value\n",
    "    p_recov_sev = params['hosp_rt'].value - params['mort_rt'].value\n",
    "    p_recov_mild = 1 - params['hosp_rt'].value\n",
    "\n",
    "    dSdt = -min(_beta*I, S)\n",
    "    dEdt = min(_beta*I, S) - _sigma*E\n",
    "    E_new = min(_beta*I, S) - E_new\n",
    "    \n",
    "    dI_Milddt = p_recov_mild*_sigma*E - _gamma*I_Mild\n",
    "    dI_Sevdt = p_recov_sev*_sigma*E - _nu*I_Sev\n",
    "    dI_Fataldt = p_fatal*_sigma*E - _nu*I_Fatal\n",
    "    \n",
    "    dH_Sevdt = _nu*I_Sev - _rho*H_Sev\n",
    "    dH_Fataldt = _nu*I_Fatal - _mu*H_Fatal\n",
    "    H_Admits = _nu*I_Sev + _nu*I_Fatal - H_Admits\n",
    "    \n",
    "    dRdt = _gamma*I_Mild + _rho*H_Sev\n",
    "    dDdt = _mu*H_Fatal\n",
    "    return [dSdt, dEdt, E_new, dI_Milddt, dI_Sevdt, dI_Fataldt, dH_Sevdt, dH_Fataldt, H_Admits, dRdt, dDdt]\n",
    "\n",
    "def error(params, initial_conditions, tspan, r_ts_nodt, data):\n",
    "    start_dt_fmt = pd.Timestamp('2020-01-01') + pd.Timedelta(days=params['start_dt'].value)\n",
    "    print(start_dt_fmt)\n",
    "    \n",
    "    this_r_ts_nodt = r_ts_nodt.copy()\n",
    "    this_r_ts_nodt.index = (this_r_ts_nodt.index - start_dt_fmt).days\n",
    "    \n",
    "    sol = odeint(noncohort_ode_model, initial_conditions, tspan, args=(this_r_ts_nodt, params,))\n",
    "    \n",
    "    df_sol = sol_array_to_df(sol, params, days, granularity, hrs_per_point)\n",
    "    \n",
    "#     return (df_sol[['H_Sev', 'H_Fatal']].sum(axis=1).resample('D').mean() - data).dropna().to_numpy()\n",
    "    return (df_sol - data).dropna(axis=1, how='all').dropna().to_numpy()\n",
    "#     return (df_sol[['H_Sev', 'H_Fatal']].sum(axis=1).resample('D').mean() - data).pow(2).mean()**.5\n",
    "\n",
    "def sol_array_to_df(sol, params, days, granularity, hrs_per_point):\n",
    "    df_sol = pd.DataFrame(sol, \n",
    "                      columns=['N', 'E', 'E_new', \n",
    "                               'I_Mild', 'I_Sev', 'I_Fatal', \n",
    "                               'H_Sev', 'H_Fatal', 'H_Admits', 'R','D'], \n",
    "                      index=pd.date_range(\n",
    "                          (pd.Timestamp('2020-01-01') + pd.Timedelta(days=params['start_dt'].value)), \n",
    "                           periods=days/granularity, freq=f'{hrs_per_point}H')\n",
    "                     )\n",
    "    agg_dict = {\n",
    "        'E': 'mean',\n",
    "        'E_new': 'sum',\n",
    "        'I_Mild': 'mean',\n",
    "        'I_Sev': 'mean',\n",
    "        'I_Fatal': 'mean',\n",
    "        'H_Sev': 'mean',\n",
    "        'H_Fatal': 'mean',\n",
    "        'H_Admits': 'sum', \n",
    "        'R': 'max',\n",
    "        'D': 'max'} \n",
    "    df_sol_daily = df_sol.resample('D').agg(agg_dict)\n",
    "    df_sol_daily['deaths_tot'] = df_sol_daily['D']\n",
    "    df_sol_daily['deaths_daily'] = df_sol_daily['D'].diff()\n",
    "    df_sol_daily['hosp_admits'] = df_sol_daily['H_Admits']\n",
    "    df_sol_daily['hosp_concur'] = df_sol_daily[['H_Sev','H_Fatal']].sum(axis=1)\n",
    "    return df_sol_daily"
   ]
  },
  {
   "cell_type": "code",
   "execution_count": 60,
   "metadata": {},
   "outputs": [
    {
     "name": "stdout",
     "output_type": "stream",
     "text": [
      "2020-01-26 00:00:00\n"
     ]
    },
    {
     "data": {
      "image/png": "[encoded data removed]",
      "text/plain": [
       "<Figure size 432x288 with 1 Axes>"
      ]
     },
     "metadata": {
      "needs_background": "light"
     },
     "output_type": "display_data"
    },
    {
     "data": {
      "image/png": "[encoded data removed]",
      "text/plain": [
       "<Figure size 432x288 with 1 Axes>"
      ]
     },
     "metadata": {
      "needs_background": "light"
     },
     "output_type": "display_data"
    },
    {
     "name": "stdout",
     "output_type": "stream",
     "text": [
      "E               2.064817e+05\n",
      "E_new           7.416718e+04\n",
      "I_Mild          2.284524e+05\n",
      "I_Sev           9.421366e+03\n",
      "I_Fatal         4.193320e+03\n",
      "H_Sev           1.033746e+04\n",
      "H_Fatal         8.663464e+03\n",
      "H_Admits        1.869593e+03\n",
      "R               3.599766e+06\n",
      "D               3.057128e+04\n",
      "deaths_tot      3.057128e+04\n",
      "deaths_daily    2.836871e+02\n",
      "hosp_admits     1.869593e+03\n",
      "hosp_concur     1.900093e+04\n",
      "Name: 2021-01-24 00:00:00, dtype: float64\n"
     ]
    }
   ],
   "source": [
    "from lmfit import minimize, Parameters, Parameter, report_fit\n",
    "\n",
    "params = Parameters()\n",
    "params.add('d_incub', value=model_dict['covid_params']['d_incub'], vary=False, min=1, max=5)\n",
    "params.add('d_infect', value=model_dict['covid_params']['d_infect'], vary=False, min=2, max=7)\n",
    "params.add('d_to_hosp', value=model_dict['covid_params']['d_to_hosp'], vary=False, min=2, max=10)\n",
    "params.add('d_in_hosp', value=model_dict['covid_params']['d_in_hosp'], vary=False, min=2, max=20)\n",
    "params.add('d_til_death', value=model_dict['covid_params']['d_til_death'], vary=False, min=8, max=45)\n",
    "params.add('mort_rt', value=model_dict['covid_params']['mort_rt'], vary=True, min=0.001, max=0.04)\n",
    "params.add('hosp_rt', value=model_dict['covid_params']['hosp_rt'], vary=True, min=0.01, max=0.15)\n",
    "params.add('start_dt', value=25, vary=False, min=0, max=100)\n",
    "\n",
    "\n",
    "r_ts = model_dict['df_rts']['weighted_average'].dropna()\n",
    "r_ts_nodt = r_ts.reindex(pd.date_range('2020-01-01', periods=365*2, freq='1D'))\n",
    "r_ts_nodt = r_ts_nodt.interpolate().fillna(method='ffill').fillna(method='bfill')\n",
    "\n",
    "days = 365.*1\n",
    "hrs_per_point = 24\n",
    "granularity = hrs_per_point/24.\n",
    "initN = 1e8\n",
    "initE, E_new = 1e1, 1e1\n",
    "initI_Mild, initI_Sev, initI_Fatal = 0, 0, 0\n",
    "initH_Sev, initH_Fatal, initH_Admits = 0, 0, 0\n",
    "initR = 0\n",
    "initD = 0\n",
    "initial_conditions = [initN, initE, E_new,\n",
    "                      initI_Mild, initI_Sev, initI_Fatal, \n",
    "                      initH_Sev, initH_Fatal, initH_Admits, \n",
    "                      initR, initD]\n",
    "\n",
    "tspan = np.arange(0, days, granularity)\n",
    "\n",
    "start_dt_fmt = pd.Timestamp('2020-01-01') + pd.Timedelta(days=params['start_dt'].value)\n",
    "print(start_dt_fmt)\n",
    "\n",
    "this_r_ts_nodt = r_ts_nodt.copy()\n",
    "this_r_ts_nodt.index = (this_r_ts_nodt.index - start_dt_fmt).days\n",
    "\n",
    "sol = odeint(noncohort_ode_model, initial_conditions, tspan, args=(this_r_ts_nodt, params,))\n",
    "\n",
    "df_sol = sol_array_to_df(sol, params, days, granularity, hrs_per_point)\n",
    "\n",
    "df_sol['hosp_concur'].plot()\n",
    "model_dict['df_hist']['hosp_concur'].plot()\n",
    "plt.show()\n",
    "\n",
    "df_sol['deaths_tot'].plot()\n",
    "model_dict['df_hist']['deaths_tot'].plot()\n",
    "plt.show()\n",
    "\n",
    "print(df_sol.iloc[-1])\n"
   ]
  },
  {
   "cell_type": "code",
   "execution_count": 57,
   "metadata": {},
   "outputs": [
    {
     "data": {
      "text/plain": [
       "Index(['deaths_daily', 'deaths_tot', 'hosp_admits', 'hosp_concur'], dtype='object')"
      ]
     },
     "execution_count": 57,
     "metadata": {},
     "output_type": "execute_result"
    }
   ],
   "source": [
    "(df_sol - model_dict['df_hist']).dropna(axis=1, how='all').dropna(how='all').columns"
   ]
  },
  {
   "cell_type": "code",
   "execution_count": 61,
   "metadata": {},
   "outputs": [
    {
     "name": "stdout",
     "output_type": "stream",
     "text": [
      "2020-01-26 00:00:00\n",
      "2020-01-26 00:00:00\n",
      "2020-01-26 00:00:00\n",
      "2020-01-26 00:00:00\n",
      "2020-01-26 00:00:00\n",
      "2020-01-26 00:00:00\n",
      "2020-01-26 00:00:00\n",
      "2020-01-26 00:00:00\n",
      "2020-01-26 00:00:00\n",
      "2020-01-26 00:00:00\n",
      "2020-01-26 00:00:00\n",
      "2020-01-26 00:00:00\n",
      "2020-01-26 00:00:00\n",
      "2020-01-26 00:00:00\n",
      "2020-01-26 00:00:00\n",
      "2020-01-26 00:00:00\n",
      "2020-01-26 00:00:00\n",
      "2020-01-26 00:00:00\n",
      "2020-01-26 00:00:00\n",
      "2020-01-26 00:00:00\n",
      "2020-01-26 00:00:00\n",
      "2020-01-26 00:00:00\n",
      "2020-01-26 00:00:00\n",
      "2020-01-26 00:00:00\n",
      "2020-01-26 00:00:00\n",
      "2020-01-26 00:00:00\n",
      "2020-01-26 00:00:00\n",
      "2020-01-26 00:00:00\n",
      "2020-01-26 00:00:00\n",
      "2020-01-26 00:00:00\n",
      "2020-01-26 00:00:00\n",
      "2020-01-26 00:00:00\n",
      "2020-01-26 00:00:00\n",
      "2020-01-26 00:00:00\n",
      "2020-01-26 00:00:00\n",
      "2020-01-26 00:00:00\n",
      "2020-01-26 00:00:00\n",
      "2020-01-26 00:00:00\n",
      "2020-01-26 00:00:00\n",
      "2020-01-26 00:00:00\n",
      "2020-01-26 00:00:00\n",
      "2020-01-26 00:00:00\n",
      "2020-01-26 00:00:00\n",
      "2020-01-26 00:00:00\n",
      "2020-01-26 00:00:00\n",
      "2020-01-26 00:00:00\n",
      "2020-01-26 00:00:00\n",
      "2020-01-26 00:00:00\n",
      "2020-01-26 00:00:00\n",
      "2020-01-26 00:00:00\n"
     ]
    },
    {
     "data": {
      "text/html": [
       "<h2>Fit Statistics</h2><table><tr><td>fitting method</td><td>brute</td><td></td></tr><tr><td># function evals</td><td>51</td><td></td></tr><tr><td># data points</td><td>1</td><td></td></tr><tr><td># variables</td><td>2</td><td></td></tr><tr><td>chi-square</td><td> 1.000e-250</td><td></td></tr><tr><td>reduced chi-square</td><td>       -inf</td><td></td></tr><tr><td>Akaike info crit.</td><td>-571.646273</td><td></td></tr><tr><td>Bayesian info crit.</td><td>-575.646273</td><td></td></tr></table><h2>Variables</h2><table><tr><th> name </th><th> value </th><th> initial value </th><th> min </th><th> max </th><th> vary </th></tr><tr><td> d_incub </td><td>  3.00000000 </td><td> 3.0 </td><td>  1.00000000 </td><td>  5.00000000 </td><td> False </td></tr><tr><td> d_infect </td><td>  4.00000000 </td><td> 4.0 </td><td>  2.00000000 </td><td>  7.00000000 </td><td> False </td></tr><tr><td> d_to_hosp </td><td>  7.00000000 </td><td> 7.0 </td><td>  2.00000000 </td><td>  10.0000000 </td><td> False </td></tr><tr><td> d_in_hosp </td><td>  11.0000000 </td><td> 11 </td><td>  2.00000000 </td><td>  20.0000000 </td><td> False </td></tr><tr><td> d_til_death </td><td>  30.0000000 </td><td> 30.0 </td><td>  8.00000000 </td><td>  45.0000000 </td><td> False </td></tr><tr><td> mort_rt </td><td>  0.00510526 </td><td> 0.01115999465928772 </td><td>  1.0000e-03 </td><td>  0.04000000 </td><td> True </td></tr><tr><td> hosp_rt </td><td>  0.08368421 </td><td> 0.03623378030843342 </td><td>  0.01000000 </td><td>  0.15000000 </td><td> True </td></tr><tr><td> start_dt </td><td>  25.0000000 </td><td> 25 </td><td>  0.00000000 </td><td>  100.000000 </td><td> False </td></tr></table>"
      ],
      "text/plain": [
       "<lmfit.minimizer.MinimizerResult at 0x7fdcb164d5d0>"
      ]
     },
     "metadata": {},
     "output_type": "display_data"
    }
   ],
   "source": [
    "# %%time\n",
    "data = model_dict['df_hist'][['deaths_tot', 'hosp_concur', 'deaths_daily']].dropna()\n",
    "\n",
    "r_ts = model_dict['df_rts']['weighted_average'].dropna()\n",
    "r_ts_nodt = r_ts.reindex(pd.date_range('2020-01-01', periods=365*2, freq='1D'))\n",
    "r_ts_nodt = r_ts_nodt.interpolate().fillna(method='ffill').fillna(method='bfill')\n",
    "\n",
    "result = minimize(error, \n",
    "                  params, \n",
    "                  args=(initial_conditions, tspan, r_ts_nodt, data)\n",
    "                  , method='brute'\n",
    "                  , max_nfev=50\n",
    "                 )\n",
    "display(result)\n"
   ]
  },
  {
   "cell_type": "code",
   "execution_count": null,
   "metadata": {},
   "outputs": [],
   "source": [
    "# TO do tomorrow\n",
    "# ADD A PARAMETER FOR A SLOPE OVER TIME ON THE MORTALITY AND HOSP RATES.\n",
    "# Think of it this way, \n",
    "# you want maybe a 4% hosp rate in March and a 3.5% in Dec\n",
    "# maybe a 1.5% mort rate in march and a 0.5% in Dec. Different slopes, but you need a change to make it work.\n"
   ]
  },
  {
   "cell_type": "code",
   "execution_count": 62,
   "metadata": {},
   "outputs": [
    {
     "name": "stdout",
     "output_type": "stream",
     "text": [
      "2020-01-26 00:00:00\n"
     ]
    },
    {
     "data": {
      "image/png": "[encoded data removed]",
      "text/plain": [
       "<Figure size 432x288 with 1 Axes>"
      ]
     },
     "metadata": {
      "needs_background": "light"
     },
     "output_type": "display_data"
    },
    {
     "data": {
      "image/png": "[encoded data removed]",
      "text/plain": [
       "<Figure size 432x288 with 1 Axes>"
      ]
     },
     "metadata": {
      "needs_background": "light"
     },
     "output_type": "display_data"
    },
    {
     "name": "stdout",
     "output_type": "stream",
     "text": [
      "E               1.049987e+06\n",
      "E_new           3.798788e+05\n",
      "I_Mild          1.088626e+06\n",
      "I_Sev           1.467384e+05\n",
      "I_Fatal         9.533572e+03\n",
      "H_Sev           1.557228e+05\n",
      "H_Fatal         1.840072e+04\n",
      "H_Admits        2.137220e+04\n",
      "R               1.018692e+07\n",
      "D               3.147779e+04\n",
      "deaths_tot      3.147779e+04\n",
      "deaths_daily    6.010776e+02\n",
      "hosp_admits     2.137220e+04\n",
      "hosp_concur     1.741235e+05\n",
      "Name: 2021-01-24 00:00:00, dtype: float64\n"
     ]
    }
   ],
   "source": [
    "start_dt_fmt = pd.Timestamp('2020-01-01') + pd.Timedelta(days=result.params['start_dt'].value)\n",
    "print(start_dt_fmt)\n",
    "\n",
    "this_r_ts_nodt = r_ts_nodt.copy()\n",
    "this_r_ts_nodt.index = (this_r_ts_nodt.index - start_dt_fmt).days\n",
    "\n",
    "sol = odeint(noncohort_ode_model, initial_conditions, tspan, args=(this_r_ts_nodt, result.params,))\n",
    "\n",
    "df_sol = sol_array_to_df(sol, params, days, granularity, hrs_per_point)\n",
    "\n",
    "df_sol['hosp_concur'].plot()\n",
    "model_dict['df_hist']['hosp_concur'].plot()\n",
    "plt.show()\n",
    "\n",
    "df_sol['deaths_tot'].plot()\n",
    "model_dict['df_hist']['deaths_tot'].plot()\n",
    "plt.show()\n",
    "\n",
    "print(df_sol.iloc[-1])"
   ]
  },
  {
   "cell_type": "code",
   "execution_count": null,
   "metadata": {},
   "outputs": [],
   "source": []
  },
  {
   "cell_type": "markdown",
   "metadata": {},
   "source": [
    "## SciPy Model"
   ]
  },
  {
   "cell_type": "code",
   "execution_count": 20,
   "metadata": {},
   "outputs": [],
   "source": [
    "# from scipy.optimize import minimize, rosen, rosen_der\n"
   ]
  },
  {
   "cell_type": "markdown",
   "metadata": {},
   "source": [
    "## Basic Daily Cohort Model"
   ]
  },
  {
   "cell_type": "code",
   "execution_count": 21,
   "metadata": {},
   "outputs": [
    {
     "data": {
      "image/png": "[encoded data removed]",
      "text/plain": [
       "<Figure size 432x288 with 1 Axes>"
      ]
     },
     "metadata": {
      "needs_background": "light"
     },
     "output_type": "display_data"
    },
    {
     "name": "stdout",
     "output_type": "stream",
     "text": [
      "E           1.962320e-16\n",
      "I_Mild      2.008308e-10\n",
      "I_Sev       2.608757e-05\n",
      "I_Fatal     8.695856e-06\n",
      "H_Sev       1.361368e-01\n",
      "H_Fatal     3.046646e+00\n",
      "H_Admits    5.796183e-06\n",
      "R           9.899999e+05\n",
      "D           9.996953e+03\n",
      "Name: 149.95833333333331, dtype: float64\n"
     ]
    }
   ],
   "source": [
    "# where mu = 1 / d_til_death\n",
    "# mu*x / (mu*x + gamma) = mort_rt\n",
    "# mux = mort * mux + mort*gamma\n",
    "# mux - mort* mux = mort*gamma\n",
    "# mux * (1 - mort) = mort* gamma\n",
    "# x * (mu - mort*mu) = mort * gamma\n",
    "# x = (mort_rt * gamma) / (mu - mort_rt * mu)\n",
    "# x = (mort_rt * gamma) / mu*(1 - mort_rt)\n",
    "# x = d_til_death * mort_rt * gamma / (1-mort_rt)\n",
    "\n",
    "def cohort_ode_model(z, t_, covid_params):\n",
    "    E, I_Mild, I_Sev, I_Fatal, H_Sev, H_Fatal, H_Admits, R, D = z\n",
    "    ## FLOWS ##\n",
    "    \n",
    "    _sigma = 1/covid_params['d_incub']\n",
    "    _gamma = 1/covid_params['d_infect']\n",
    "    _nu = 1/covid_params['d_to_hosp']\n",
    "    _rho = 1/covid_params['d_in_hosp']\n",
    "    _mu = 1/covid_params['d_til_death']\n",
    "    \n",
    "    p_fatal = covid_params['mort_rt']\n",
    "    p_recov_sev = covid_params['hosp_rt'] - covid_params['mort_rt']\n",
    "    p_recov_mild = 1 - covid_params['hosp_rt']\n",
    "\n",
    "    dEdt = -_sigma*E\n",
    "    \n",
    "    dI_Milddt = p_recov_mild*_sigma*E - _gamma*I_Mild\n",
    "    dI_Sevdt = p_recov_sev*_sigma*E - _nu*I_Sev\n",
    "    dI_Fataldt = p_fatal*_sigma*E - _nu*I_Fatal\n",
    "    \n",
    "    dH_Sevdt = _nu*I_Sev - _rho*H_Sev\n",
    "    dH_Fataldt = _nu*I_Fatal - _mu*H_Fatal\n",
    "    H_Admits = _nu*I_Sev + _nu*I_Fatal - H_Admits\n",
    "    \n",
    "    dRdt = _gamma*I_Mild + _rho*H_Sev\n",
    "    dDdt = _mu*H_Fatal\n",
    "    return [dEdt, dI_Milddt, dI_Sevdt, dI_Fataldt, dH_Sevdt, dH_Fataldt, H_Admits, dRdt, dDdt]\n",
    "\n",
    "days = 150\n",
    "hrs_per_point = 1.\n",
    "granularity = hrs_per_point/24.\n",
    "# initN = 1e8\n",
    "initE = 1e6\n",
    "initI_Mild, initI_Sev, initI_Fatal = 0, 0, 0\n",
    "initH_Sev, initH_Fatal, initH_Admits = 0, 0, 0\n",
    "initR = 0\n",
    "initD = 0\n",
    "initial_conditions = [initE, initI_Mild, initI_Sev, initI_Fatal, initH_Sev, initH_Fatal, initH_Admits, initR, initD]\n",
    "\n",
    "tspan = np.arange(0, days, granularity)\n",
    "sol = odeint(cohort_ode_model, initial_conditions, tspan, args=(covid_params,))\n",
    "\n",
    "df_sol = pd.DataFrame(sol, \n",
    "                      columns=['E', 'I_Mild', 'I_Sev', 'I_Fatal', 'H_Sev', 'H_Fatal', 'H_Admits', 'R','D'], \n",
    "                      index=tspan)\n",
    "df_sol.plot(); plt.show()\n",
    "df_sol.R.diff().plot; plt.show()\n",
    "\n",
    "print(df_sol.iloc[-1])\n"
   ]
  },
  {
   "cell_type": "code",
   "execution_count": 22,
   "metadata": {},
   "outputs": [
    {
     "name": "stdout",
     "output_type": "stream",
     "text": [
      "5.5 ms ± 295 µs per loop (mean ± std. dev. of 7 runs, 100 loops each)\n"
     ]
    }
   ],
   "source": [
    "%%timeit\n",
    "sol = odeint(cohort_ode_model, initial_conditions, tspan, args=(covid_params,))"
   ]
  },
  {
   "cell_type": "code",
   "execution_count": 23,
   "metadata": {},
   "outputs": [
    {
     "data": {
      "text/plain": [
       "<matplotlib.axes._subplots.AxesSubplot at 0x7fdcb0d18150>"
      ]
     },
     "execution_count": 23,
     "metadata": {},
     "output_type": "execute_result"
    },
    {
     "data": {
      "image/png": "[encoded data removed]",
      "text/plain": [
       "<Figure size 432x288 with 1 Axes>"
      ]
     },
     "metadata": {
      "needs_background": "light"
     },
     "output_type": "display_data"
    }
   ],
   "source": [
    "# df_sol[['H_Sev', 'H_Fatal']].div(df_sol[['H_Sev', 'H_Fatal']].sum(axis=1), axis=0).plot()\n",
    "ax = df_sol[['H_Sev', 'H_Fatal']].sum(axis=1).plot()\n",
    "df_sol.H_Admits.plot(ax=ax)\n"
   ]
  },
  {
   "cell_type": "code",
   "execution_count": 24,
   "metadata": {},
   "outputs": [
    {
     "ename": "KeyError",
     "evalue": "'beta'",
     "output_type": "error",
     "traceback": [
      "\u001b[0;31m---------------------------------------------------------------------------\u001b[0m",
      "\u001b[0;31mKeyError\u001b[0m                                  Traceback (most recent call last)",
      "\u001b[0;32m<ipython-input-24-cdf8a95b9b7b>\u001b[0m in \u001b[0;36m<module>\u001b[0;34m\u001b[0m\n\u001b[1;32m      9\u001b[0m \u001b[0;34m\u001b[0m\u001b[0m\n\u001b[1;32m     10\u001b[0m \u001b[0mtspan\u001b[0m \u001b[0;34m=\u001b[0m \u001b[0mnp\u001b[0m\u001b[0;34m.\u001b[0m\u001b[0marange\u001b[0m\u001b[0;34m(\u001b[0m\u001b[0;36m0\u001b[0m\u001b[0;34m,\u001b[0m \u001b[0mdays\u001b[0m\u001b[0;34m,\u001b[0m \u001b[0;36m1\u001b[0m\u001b[0;34m)\u001b[0m\u001b[0;34m\u001b[0m\u001b[0;34m\u001b[0m\u001b[0m\n\u001b[0;32m---> 11\u001b[0;31m \u001b[0msol\u001b[0m \u001b[0;34m=\u001b[0m \u001b[0mode_solver\u001b[0m\u001b[0;34m(\u001b[0m\u001b[0mtspan\u001b[0m\u001b[0;34m,\u001b[0m \u001b[0minitial_conditions\u001b[0m\u001b[0;34m,\u001b[0m \u001b[0mcovid_params\u001b[0m\u001b[0;34m)\u001b[0m\u001b[0;34m\u001b[0m\u001b[0;34m\u001b[0m\u001b[0m\n\u001b[0m\u001b[1;32m     12\u001b[0m \u001b[0mE\u001b[0m\u001b[0;34m,\u001b[0m \u001b[0mI\u001b[0m\u001b[0;34m,\u001b[0m \u001b[0mH\u001b[0m\u001b[0;34m,\u001b[0m \u001b[0mR\u001b[0m\u001b[0;34m,\u001b[0m \u001b[0mD\u001b[0m\u001b[0;34m,\u001b[0m \u001b[0md_hosp_admits\u001b[0m \u001b[0;34m=\u001b[0m \u001b[0msol\u001b[0m\u001b[0;34m[\u001b[0m\u001b[0;34m:\u001b[0m\u001b[0;34m,\u001b[0m \u001b[0;36m0\u001b[0m\u001b[0;34m]\u001b[0m\u001b[0;34m,\u001b[0m \u001b[0msol\u001b[0m\u001b[0;34m[\u001b[0m\u001b[0;34m:\u001b[0m\u001b[0;34m,\u001b[0m \u001b[0;36m1\u001b[0m\u001b[0;34m]\u001b[0m\u001b[0;34m,\u001b[0m \u001b[0msol\u001b[0m\u001b[0;34m[\u001b[0m\u001b[0;34m:\u001b[0m\u001b[0;34m,\u001b[0m \u001b[0;36m2\u001b[0m\u001b[0;34m]\u001b[0m\u001b[0;34m,\u001b[0m \u001b[0msol\u001b[0m\u001b[0;34m[\u001b[0m\u001b[0;34m:\u001b[0m\u001b[0;34m,\u001b[0m \u001b[0;36m3\u001b[0m\u001b[0;34m]\u001b[0m\u001b[0;34m,\u001b[0m \u001b[0msol\u001b[0m\u001b[0;34m[\u001b[0m\u001b[0;34m:\u001b[0m\u001b[0;34m,\u001b[0m \u001b[0;36m4\u001b[0m\u001b[0;34m]\u001b[0m\u001b[0;34m\u001b[0m\u001b[0;34m\u001b[0m\u001b[0m\n",
      "\u001b[0;32m<ipython-input-10-f87218914baa>\u001b[0m in \u001b[0;36mode_solver\u001b[0;34m(t, initial_conditions, covid_params)\u001b[0m\n\u001b[1;32m     14\u001b[0m \u001b[0;32mdef\u001b[0m \u001b[0mode_solver\u001b[0m\u001b[0;34m(\u001b[0m\u001b[0mt\u001b[0m\u001b[0;34m,\u001b[0m \u001b[0minitial_conditions\u001b[0m\u001b[0;34m,\u001b[0m \u001b[0mcovid_params\u001b[0m\u001b[0;34m)\u001b[0m\u001b[0;34m:\u001b[0m\u001b[0;34m\u001b[0m\u001b[0;34m\u001b[0m\u001b[0m\n\u001b[1;32m     15\u001b[0m     \u001b[0minitE\u001b[0m\u001b[0;34m,\u001b[0m \u001b[0minitI\u001b[0m\u001b[0;34m,\u001b[0m \u001b[0minitR\u001b[0m\u001b[0;34m,\u001b[0m \u001b[0minitN\u001b[0m\u001b[0;34m,\u001b[0m \u001b[0minitD\u001b[0m \u001b[0;34m=\u001b[0m \u001b[0minitial_conditions\u001b[0m\u001b[0;34m\u001b[0m\u001b[0;34m\u001b[0m\u001b[0m\n\u001b[0;32m---> 16\u001b[0;31m     \u001b[0mbeta\u001b[0m\u001b[0;34m,\u001b[0m \u001b[0msigma\u001b[0m\u001b[0;34m,\u001b[0m \u001b[0mgamma\u001b[0m\u001b[0;34m,\u001b[0m \u001b[0mmu\u001b[0m \u001b[0;34m=\u001b[0m \u001b[0mparams\u001b[0m\u001b[0;34m[\u001b[0m\u001b[0;34m'beta'\u001b[0m\u001b[0;34m]\u001b[0m\u001b[0;34m.\u001b[0m\u001b[0mvalue\u001b[0m\u001b[0;34m,\u001b[0m \u001b[0mparams\u001b[0m\u001b[0;34m[\u001b[0m\u001b[0;34m'sigma'\u001b[0m\u001b[0;34m]\u001b[0m\u001b[0;34m.\u001b[0m\u001b[0mvalue\u001b[0m\u001b[0;34m,\u001b[0m \u001b[0mparams\u001b[0m\u001b[0;34m[\u001b[0m\u001b[0;34m'gamma'\u001b[0m\u001b[0;34m]\u001b[0m\u001b[0;34m.\u001b[0m\u001b[0mvalue\u001b[0m\u001b[0;34m,\u001b[0m \u001b[0mparams\u001b[0m\u001b[0;34m[\u001b[0m\u001b[0;34m'mu'\u001b[0m\u001b[0;34m]\u001b[0m\u001b[0;34m.\u001b[0m\u001b[0mvalue\u001b[0m\u001b[0;34m\u001b[0m\u001b[0;34m\u001b[0m\u001b[0m\n\u001b[0m\u001b[1;32m     17\u001b[0m     \u001b[0minitS\u001b[0m \u001b[0;34m=\u001b[0m \u001b[0minitN\u001b[0m \u001b[0;34m-\u001b[0m \u001b[0;34m(\u001b[0m\u001b[0minitE\u001b[0m \u001b[0;34m+\u001b[0m \u001b[0minitI\u001b[0m \u001b[0;34m+\u001b[0m \u001b[0minitR\u001b[0m \u001b[0;34m+\u001b[0m \u001b[0minitD\u001b[0m\u001b[0;34m)\u001b[0m\u001b[0;34m\u001b[0m\u001b[0;34m\u001b[0m\u001b[0m\n\u001b[1;32m     18\u001b[0m     \u001b[0mres\u001b[0m \u001b[0;34m=\u001b[0m \u001b[0modeint\u001b[0m\u001b[0;34m(\u001b[0m\u001b[0mode_model\u001b[0m\u001b[0;34m,\u001b[0m \u001b[0;34m[\u001b[0m\u001b[0minitS\u001b[0m\u001b[0;34m,\u001b[0m \u001b[0minitE\u001b[0m\u001b[0;34m,\u001b[0m \u001b[0minitI\u001b[0m\u001b[0;34m,\u001b[0m \u001b[0minitR\u001b[0m\u001b[0;34m,\u001b[0m \u001b[0minitD\u001b[0m\u001b[0;34m]\u001b[0m\u001b[0;34m,\u001b[0m \u001b[0mt\u001b[0m\u001b[0;34m,\u001b[0m \u001b[0margs\u001b[0m\u001b[0;34m=\u001b[0m\u001b[0;34m(\u001b[0m\u001b[0mbeta\u001b[0m\u001b[0;34m,\u001b[0m \u001b[0msigma\u001b[0m\u001b[0;34m,\u001b[0m \u001b[0mgamma\u001b[0m\u001b[0;34m,\u001b[0m \u001b[0mmu\u001b[0m\u001b[0;34m)\u001b[0m\u001b[0;34m)\u001b[0m\u001b[0;34m\u001b[0m\u001b[0;34m\u001b[0m\u001b[0m\n",
      "\u001b[0;31mKeyError\u001b[0m: 'beta'"
     ]
    }
   ],
   "source": [
    "days = 365\n",
    "# initN = 1e8\n",
    "initE = 1\n",
    "initI = 1\n",
    "initH = 0\n",
    "initR = 0\n",
    "initD = 0\n",
    "initial_conditions = [initE, initI, initH, initR, initD]\n",
    "\n",
    "tspan = np.arange(0, days, 1)\n",
    "sol = ode_solver(tspan, initial_conditions, covid_params)\n",
    "E, I, H, R, D, d_hosp_admits = sol[:, 0], sol[:, 1], sol[:, 2], sol[:, 3], sol[:, 4]"
   ]
  },
  {
   "cell_type": "code",
   "execution_count": null,
   "metadata": {},
   "outputs": [],
   "source": [
    "# function that returns dy/dt\n",
    "def model(y,t):\n",
    "    if t >5:\n",
    "#         k = 0.3\n",
    "#         dydt = -k * y\n",
    "        dydt = gamma.pdf(t, 5)\n",
    "    else:\n",
    "        dydt = 0\n",
    "    return dydt\n",
    "\n",
    "# initial condition\n",
    "y0 = 5\n",
    "\n",
    "# time points\n",
    "t = np.linspace(0,20, 100)\n",
    "\n",
    "# solve ODE\n",
    "y = odeint(model,y0,t)\n",
    "\n",
    "plt.plot(t,y)"
   ]
  },
  {
   "cell_type": "code",
   "execution_count": null,
   "metadata": {},
   "outputs": [],
   "source": [
    "%%timeit\n",
    "y = odeint(model,y0,t)"
   ]
  },
  {
   "cell_type": "code",
   "execution_count": null,
   "metadata": {},
   "outputs": [],
   "source": [
    "%%timeit \n",
    "y = [5]\n",
    "for t_ in t:\n",
    "\n",
    "    dydt = model(y[-1], t_)\n",
    "\n",
    "    y_ = y[-1] + dydt\n",
    "\n",
    "    y = y + [y_]\n",
    "\n",
    "# y[-1]"
   ]
  },
  {
   "cell_type": "code",
   "execution_count": null,
   "metadata": {},
   "outputs": [],
   "source": [
    "plt.plot(t,y[1:])"
   ]
  },
  {
   "cell_type": "code",
   "execution_count": null,
   "metadata": {},
   "outputs": [],
   "source": [
    "allstate_model_dicts = {}\n",
    "df_rts_allregs = pd.DataFrame()\n",
    "df_wavg_rt_conf_allregs = pd.DataFrame()\n",
    "\n",
    "for state in l_states_to_fore:\n",
    "    print(state)\n",
    "    \n",
    "    model_dict = make_model_dict_state(state, abbrev_us_state, df_census, df_st_testing_fmt,\n",
    "                                       covid_params, days_to_forecast,\n",
    "                                       df_mvmt=df_goog_mob_state\n",
    "                                     , df_interventions=df_interventions\n",
    "                                      )\n",
    "    \n",
    "    this_reg_df_rts = pd.DataFrame(model_dict['df_rts'].stack(), columns=[state])\n",
    "    this_reg_df_wavg = pd.DataFrame(\n",
    "        model_dict['df_rts_conf'].sort_index().unstack('metric')['weighted_average'].stack(), columns=[state])\n",
    "\n",
    "    df_rts_allregs = pd.concat([df_rts_allregs, this_reg_df_rts], axis=1)\n",
    "    df_wavg_rt_conf_allregs = pd.concat([df_wavg_rt_conf_allregs, this_reg_df_wavg], axis=1)\n",
    "\n",
    "    try:\n",
    "        first_guess = df_prevfore_allstates[state].first_valid_index()[0]\n",
    "    except:\n",
    "        first_guess = pd.Timestamp('2020-02-17')\n",
    "\n",
    "    model_dict = model_find_start(first_guess, model_dict)\n",
    "    df_agg = model_dict['df_agg']\n",
    "    df_all_cohorts = model_dict['df_all_cohorts']\n",
    "\n",
    "    print('Peak Hospitalization Date: ', df_agg.hospitalized.idxmax().strftime(\"%d %b, %Y\"))\n",
    "    print('Peak Hospitalization #: {:.0f}'.format(df_agg.hospitalized.max()))\n",
    "    print('Peak ICU #: {:.0f}'.format(df_agg.icu.max()))\n",
    "    print('Peak Ventilator #: {:.0f}'.format(df_agg.vent.max()))\n",
    "\n",
    "    model_dict['chart_title'] = r'No Change in Future $R_{t}$ Until 20% Hospital Capacity Trigger'\n",
    "\n",
    "    allstate_model_dicts[state] = model_dict\n",
    "    df_fore_allstates = pd.concat([df_fore_allstates,pd.DataFrame(df_agg.stack(), columns=[state])], axis=1)\n",
    "\n",
    "#######################\n",
    "\n",
    "### Add US Country Level Entries Before Saving ###\n",
    "df_fore_us = df_fore_allstates.sum(axis=1, skipna=True).unstack('metric').dropna(how='all')\n",
    "tot_pop = df_fore_us[['susceptible', 'deaths', 'exposed', 'hospitalized', 'infectious', 'recovered']].sum(axis=1)\n",
    "max_tot_pop = tot_pop.max()\n",
    "df_fore_us.loc[tot_pop<max_tot_pop, 'susceptible'] = df_fore_us['susceptible'] + (max_tot_pop - tot_pop)\n",
    "df_fore_allstates = pd.concat([df_fore_allstates,pd.DataFrame(df_fore_us.stack(), columns=['US'])], axis=1)\n",
    "\n",
    "model_dict = make_model_dict_us(df_census, df_st_testing_fmt, covid_params, d_to_forecast = 75,\n",
    "                               df_mvmt=df_goog_mob_us, df_interventions=df_interventions)\n",
    "model_dict['df_agg'] = df_fore_us\n",
    "model_dict['chart_title'] = r'No Change in Future $R_{t}$ Until 20% Hospital Capacity Trigger'\n",
    "allstate_model_dicts['US'] = model_dict\n",
    "\n",
    "this_reg_df_wavg = pd.DataFrame(\n",
    "    model_dict['df_rts_conf'].sort_index().unstack('metric')['weighted_average'].stack(), columns=['US'])\n",
    "df_wavg_rt_conf_allregs = pd.concat([df_wavg_rt_conf_allregs, this_reg_df_wavg], axis=1)\n",
    "###################################################\n",
    "\n",
    "### Save Output ###\n",
    "# df_rts_allregs.index.names = ['dt','metric']\n",
    "\n",
    "# df_wavg_rt_conf_allregs.unstack('metric').to_csv(\n",
    "#     './output/df_wavg_rt_conf_allregs_{}.csv'.format(pd.Timestamp.today().strftime(\"%Y%m%d\")),\n",
    "#     encoding='utf-8')\n",
    "# df_wavg_rt_conf_allregs.to_pickle('./output/df_wavg_rt_conf_allregs_{}.pkl'.format(\n",
    "#     pd.Timestamp.today().strftime(\"%Y%m%d\")))\n",
    "\n",
    "# df_fore_allstates.unstack('metric').to_csv(\n",
    "#     './output/df_fore_allstates_{}.csv'.format(pd.Timestamp.today().strftime(\"%Y%m%d\")),\n",
    "#     encoding='utf-8')\n",
    "# df_fore_allstates.unstack('metric').to_csv(\n",
    "#     '../COVIDoutlook/download/df_fore_allstates_{}.csv'.format(pd.Timestamp.today().strftime(\"%Y%m%d\")),\n",
    "#     encoding='utf-8')\n",
    "# df_fore_allstates.to_pickle('./output/df_fore_allstates_{}.pkl'.format(pd.Timestamp.today().strftime(\"%Y%m%d\")))\n",
    "\n",
    "# asmd_filename = './output/allstate_model_dicts_{}.pkl'.format(pd.Timestamp.today().strftime(\"%Y%m%d\"))\n",
    "\n",
    "# df_interventions.to_csv('../COVIDoutlook/download/df_interventions.csv', encoding='utf-8')\n",
    "\n",
    "# with open(asmd_filename, 'wb') as handle:\n",
    "#     pickle.dump(allstate_model_dicts, handle, protocol=pickle.HIGHEST_PROTOCOL)\n",
    "\n",
    "# with open('filename.pickle', 'rb') as handle:\n",
    "#     b = pickle.load(handle)\n",
    "\n",
    "# os.system('say -v \"Victoria\" \"Your forecasts are ready.\"')\n",
    "\n",
    "######################\n",
    "\n",
    "# os.system('python web_gen_covidoutlook.py &') # 'python web_gen_covidoutlook.py 2>&1 | tee -a web_gen_covidoutlook.log &'\n",
    "# os.system('python web_gen_personal.py &')"
   ]
  },
  {
   "cell_type": "code",
   "execution_count": null,
   "metadata": {},
   "outputs": [],
   "source": [
    "model_dict = make_model_dict_state('NY',abbrev_us_state,df_census,\n",
    "    df_st_testing_fmt,\n",
    "    covid_params,\n",
    "    d_to_forecast=75,\n",
    "    df_mvmt=df_goog_mob_state)\n",
    "ax = ch_rt_confid(model_dict)"
   ]
  },
  {
   "cell_type": "code",
   "execution_count": null,
   "metadata": {},
   "outputs": [],
   "source": [
    "from coronita_chart_helper import *\n",
    "from coronita_web_helper import *\n",
    "from coronita_bokeh_helper import *\n",
    "\n",
    "### Settings and Functions for Personal Website ###\n",
    "plt.style.use('ggplot')\n",
    "\n",
    "def footnote_str_maker():\n",
    "    footnote_str = 'www.COVIDoutlook.info | twtr: @COVIDoutlook\\nChart created on {}'.format(\n",
    "        pd.Timestamp.today().strftime(\"%d %b, %Y at %I:%M %p\"))\n",
    "    return footnote_str\n",
    "\n",
    "\n",
    "def add_plotly_footnote(fig):\n",
    "    fig.update_layout(\n",
    "                  annotations=[\n",
    "                      dict(x = 0, y = -0.06,\n",
    "                           xref='paper', yref='paper', font_size=10, showarrow=False,\n",
    "                           xanchor='left', yanchor='auto', xshift=0, yshift=0,\n",
    "                            text='<a href=\"http://{0}\">{0}</a> | twtr: <a href=\"https://twitter.com/COVIDoutlook\">@COVIDoutlook</a> | '.format(\n",
    "                           'www.COVIDoutlook.info')\n",
    "                          ),\n",
    "                      dict(x = 0, y = -0.09,\n",
    "                           xref='paper', yref='paper', font_size=10, showarrow=False,\n",
    "                           xanchor='left', yanchor='auto', xshift=0, yshift=0,\n",
    "                           text='Chart created on {}'.format(pd.Timestamp.today().strftime(\"%d %b %Y\"))\n",
    "                          )\n",
    "                  ]\n",
    "                 )\n",
    "    return fig\n",
    "d_chart_fns = {'ch_rt_confid': ch_rt_confid,\n",
    " 'ch_positivetests': ch_positivetests,\n",
    " 'ch_totaltests': ch_totaltests,\n",
    " 'ch_postestshare': ch_postestshare,\n",
    " 'ch_detection_rt': ch_detection_rt,\n",
    " 'ch_googmvmt': ch_googmvmt,\n",
    " 'ch_exposed_infectious': ch_exposed_infectious,\n",
    " 'ch_hosp': ch_hosp,\n",
    " 'ch_population_share': ch_population_share,\n",
    " 'ch_cumul_infections': ch_cumul_infections,\n",
    " 'ch_daily_exposures': ch_daily_exposures,\n",
    " 'ch_hosp_admits': ch_hosp_admits,\n",
    " 'ch_daily_deaths': ch_daily_deaths}\n"
   ]
  },
  {
   "cell_type": "code",
   "execution_count": null,
   "metadata": {
    "scrolled": false
   },
   "outputs": [],
   "source": [
    "for state_code in l_states_to_fore:\n",
    "    print(state_code)\n",
    "    model_dict = allstate_model_dicts[state_code]\n",
    "    model_dict['footnote_str'] = footnote_str_maker()\n",
    "\n",
    "    # fig = ch_statemap2(df_counties.query('dt == dt.max() and state == \"{}\"'.format(state_code)),\n",
    "    #                    model_dict['region_name'],\n",
    "    #                    df_counties.query('dt == dt.max()').cases_per100k.quantile(.9),\n",
    "    #                    counties_geo\n",
    "    #                   )\n",
    "    fig = ch_statemap_casechange(model_dict, df_counties, counties_geo)\n",
    "    fig = add_plotly_footnote(fig)\n",
    "    # fig.write_html('../COVIDoutlook/forecasts/plotly/{}_casepercap_cnty_map.html'.format(\n",
    "    #     model_dict['region_code']), include_plotlyjs='cdn')\n",
    "\n",
    "    for ch_name, ch_fn in d_chart_fns.items():\n",
    "        try:\n",
    "            ax = ch_fn(model_dict)\n",
    "            filename = '../COVIDoutlook/assets/images/covid19/{}_{}.png'.format(\n",
    "                model_dict['region_code'], ch_name)\n",
    "    #         plt.savefig(filename, bbox_inches='tight')\n",
    "            plt.show()\n",
    "            plt.close()\n",
    "            # os.system('optipng {} &'.format(filename))\n",
    "        except:\n",
    "            print('Couldn\\'t create {} {} chart.'.format(model_dict['region_code'], ch_name))\n",
    "\n",
    "    statetab_output_cols = ['Riskiest State Rank', 'Population',\n",
    "                   'Model Est\\'d Active Infections', 'Current Reproduction Rate (Rt)',\n",
    "                   'Total Cases', '14-Day Avg Daily Cases',\n",
    "                   'Positivity Rate',\n",
    "                   'Total Deaths', '14-Day Avg Daily Deaths',\n",
    "                   'Hospitalized', '14-Day Avg Daily Hosp Admits'\n",
    "                   ]\n",
    "    # if state_code == 'US':\n",
    "    #     statetab = df_tab_us[statetab_output_cols[1:]].replace('nan', 'Not Available')\n",
    "    # else:\n",
    "    #     statetab = df_tab.loc[df_tab.state==state_code, statetab_output_cols].replace('nan', 'Not Available')\n",
    "\n",
    "    # statetab_html = statetab.to_html(index=False, border=0, justify='center', escape=False)\n",
    "    # statetab_html = statetab_html.replace(\n",
    "    #     'class=\"dataframe\"', 'class=\"w3-table w3-striped w3-bordered w3-hoverable w3-medium\"')\n",
    "    # statetab_html = statetab_html.replace(\n",
    "    #     '<tr style=\"text-align: center;\">', '<tr style=\"text-align: center;\" class=\"w3-light-grey\">')\n",
    "\n",
    "    # l_content = [statetab_html, '### How Fast is COVID-19 Currently Spreading?']\n",
    "\n",
    "    # for thischart in l_charts:\n",
    "    #     if thischart == 'ch_statemap':\n",
    "    #         # l_content.append('{{% include_relative plotly/{}_casepercap_cnty_map.html %}}'.format(state_code))\n",
    "    #         l_content.append(state_plotly_html.format(state_code))\n",
    "    #     else:\n",
    "    #         l_content.append(\"<img src='/assets/images/covid19/{}_{}.png'>\".format(\n",
    "    #             state_code, thischart))\n",
    "\n",
    "    #     if thischart in dict_ch_defs.keys():\n",
    "    #         l_content.append(dict_ch_defs[thischart]+'\\n- - - -')\n",
    "\n",
    "    # l_content.insert(15, '### Model and Forecast Results')\n",
    "\n",
    "    # final_md = state_md_template.format(model_dict['region_name'], state_code, '\\n'.join(l_content))\n",
    "\n",
    "    # if state_code == 'US':\n",
    "    #     filename = \"../COVIDoutlook/forecasts/index.md\".format(state_code)\n",
    "    # else:\n",
    "    #     filename = \"../COVIDoutlook/forecasts/{}.md\".format(state_code)\n",
    "\n",
    "    # with open(filename, \"w\") as file:\n",
    "    #     file.write(final_md)"
   ]
  },
  {
   "cell_type": "code",
   "execution_count": null,
   "metadata": {},
   "outputs": [],
   "source": []
  }
 ],
 "metadata": {
  "kernelspec": {
   "display_name": "Python 3",
   "language": "python",
   "name": "python3"
  },
  "language_info": {
   "codemirror_mode": {
    "name": "ipython",
    "version": 3
   },
   "file_extension": ".py",
   "mimetype": "text/x-python",
   "name": "python",
   "nbconvert_exporter": "python",
   "pygments_lexer": "ipython3",
   "version": "3.7.7"
  }
 },
 "nbformat": 4,
 "nbformat_minor": 4
}
