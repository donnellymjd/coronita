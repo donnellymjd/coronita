{
 "cells": [
  {
   "cell_type": "code",
   "execution_count": 7,
   "metadata": {},
   "outputs": [],
   "source": [
    "import requests\n"
   ]
  },
  {
   "cell_type": "code",
   "execution_count": 19,
   "metadata": {},
   "outputs": [
    {
     "data": {
      "text/plain": [
       "b'<!DOCTYPE html>\\r\\n<html><head>\\r\\n<meta http-equiv=\"Pragma\" content=\"no-cache\"/>\\r\\n<meta http-equiv=\"Expires\" content=\"-1\"/>\\r\\n<meta http-equiv=\"CacheControl\" content=\"no-cache\"/>\\r\\n<meta http-equiv=\"Content-Type\" content=\"text/html; charset=utf-8\"/>\\r\\n<link rel=\"shortcut icon\" href=\"data:;base64,iVBORw0KGgo=\"/>\\r\\n\\r\\n<script>\\r\\n\\r\\n(function(){\\r\\nwindow[\"bobcmn\"] = \"1111111010101020000000520000000520000000026a7a196b200000096300000000300000000300000006/TSPD/300000008TSPD_101300000005https3000000b008f09154e8ab200095b260ff39acbefe56b171389f5d67e4c1166a94be5fa3b25614e90707e3f8da08f262fef90a2800133dc57fb5c6e24af70da6e48a9de882e33a62346db5b03e0a7e92b3bdd47e8e731e3421b9fd6202200000000200000000\";\\r\\n\\r\\nwindow.kUh=!!window.kUh;try{(function(){(function lj(){var L=!1;function z(L){for(var z=0;L--;)z+=_(document.documentElement,null);return z}function _(L,z){var S=\"vi\";z=z||new I;return Lj(L,function(L){L.setAttribute(\"data-\"+S,z.il());return _(L,z)},null)}function I(){this.OI=1;this.Li=0;this.ss=this.OI;this.JS=null;this.il=function(){this.JS=this.Li+this.ss;if(!isFinite(this.JS))return this.reset(),this.il();this.Li=this.ss;this.ss=this.JS;this.JS=null;return this.ss};this.reset=function(){this.OI++;this.Li=0;this.ss=this.OI}}var jj=!1;\\nfunction S(L,z){var S=document.createElement(L);z=z||document.body;z.appendChild(S);S&&S.style&&(S.style.display=\"none\")}function Jj(z,S){S=S||z;var _=\"|\";function I(L){L=L.split(_);var z=[];for(var S=0;S<L.length;++S){var jj=\"\",Jj=L[S].split(\",\");for(var oj=0;oj<Jj.length;++oj)jj+=Jj[oj][oj];z.push(jj)}return z}var Jj=0,Lj=\"datalist,details,embed,figure,hrimg,strong,article,formaddress|audio,blockquote,area,source,input|canvas,form,link,tbase,option,details,article\";Lj.split(_);Lj=I(Lj);Lj=new RegExp(Lj.join(_),\\n\"g\");while(Lj.exec(z))Lj=new RegExp((\"\"+new Date)[8],\"g\"),L&&(jj=!0),++Jj;return S(Jj&&1)}function Lj(L,z,_){(_=_||jj)&&S(\"div\",L);L=L.children;var I=0;for(var Jj in L){_=L[Jj];try{_ instanceof HTMLElement&&(z(_),++I)}catch(Lj){}}return I}Jj(lj,z)})();var Oj=29;try{var Sj,_j,Ij=l(854)?1:0,jJ=l(515)?1:0,JJ=l(739)?1:0;for(var LJ=(l(591),0);LJ<_j;++LJ)Ij+=l(386)?2:1,jJ+=(l(903),2),JJ+=l(898)?1:3;Sj=Ij+jJ+JJ;window.Zs===Sj&&(window.Zs=++Sj)}catch(sJ){window.Zs=Sj}var _J=!0;\\nfunction O(J){var L=arguments.length,z=[],_=1;while(_<L)z[_-1]=arguments[_++]-J;return String.fromCharCode.apply(String,z)}function Jl(J){var L=79;!J||document[Z(L,197,184,194,184,177,184,187,184,195,200,162,195,176,195,180)]&&document[O(L,197,184,194,184,177,184,187,184,195,200,162,195,176,195,180)]!==s(68616527587,L)||(_J=!1);return _J}function s(J,L){J+=L;return J.toString(36)}\\nfunction Z(J){var L=arguments.length,z=[];for(var _=1;_<L;++_)z.push(arguments[_]-J);return String.fromCharCode.apply(String,z)}function ll(){}Jl(window[ll[s(1086825,Oj)]]===ll);Jl(typeof ie9rgb4!==s(1242178186170,Oj));Jl(RegExp(\"\\\\x3c\")[s(1372176,Oj)](function(){return\"\\\\x3c\"})&!RegExp(s(42860,Oj))[O(Oj,145,130,144,145)](function(){return\"\\'x3\\'+\\'d\\';\"}));\\nvar ol=window[O(Oj,126,145,145,126,128,133,98,147,130,139,145)]||RegExp(O(Oj,138,140,127,134,153,126,139,129,143,140,134,129),s(-11,Oj))[s(1372176,Oj)](window[\"\\\\x6e\\\\x61vi\\\\x67a\\\\x74\\\\x6f\\\\x72\"][\"\\\\x75\\\\x73e\\\\x72A\\\\x67\\\\x65\\\\x6et\"]),Ol=+new Date+(l(90)?6E5:485273),sl,_l,jL,lL=window[O(Oj,144,130,145,113,134,138,130,140,146,145)],LL=ol?l(305)?3E4:43904:l(795)?6E3:7903;\\ndocument[O(Oj,126,129,129,98,147,130,139,145,105,134,144,145,130,139,130,143)]&&document[Z(Oj,126,129,129,98,147,130,139,145,105,134,144,145,130,139,130,143)](O(Oj,147,134,144,134,127,134,137,134,145,150,128,133,126,139,132,130),function(J){var L=48;document[O(L,166,153,163,153,146,153,156,153,164,169,131,164,145,164,149)]&&(document[Z(L,166,153,163,153,146,153,156,153,164,169,131,164,145,164,149)]===s(1058781935,L)&&J[Z(L,153,163,132,162,165,163,164,149,148)]?jL=!0:document[Z(L,166,153,163,153,146,\\n153,156,153,164,169,131,164,145,164,149)]===s(68616527618,L)&&(sl=+new Date,jL=!1,oL()))});function oL(){if(!document[O(82,195,199,183,196,203,165,183,190,183,181,198,193,196)])return!0;var J=+new Date;if(J>Ol&&(l(283)?6E5:302726)>J-sl)return Jl(!1);var L=Jl(_l&&!jL&&sl+LL<J);sl=J;_l||(_l=!0,lL(function(){_l=!1},l(108)?1:0));return L}oL();var OL=[l(203)?17795081:13024728,l(319)?27611931586:2147483647,l(836)?1558153217:1206082066];\\nfunction ZL(J){var L=1;J=typeof J===O(L,116,117,115,106,111,104)?J:J[Z(L,117,112,84,117,115,106,111,104)](l(317)?36:34);var z=window[J];if(!z[O(L,117,112,84,117,115,106,111,104)])return;var _=\"\"+z;window[J]=function(J,L){_l=!1;return z(J,L)};window[J][O(L,117,112,84,117,115,106,111,104)]=function(){return _}}for(var sL=(l(432),0);sL<OL[s(1294399176,Oj)];++sL)ZL(OL[sL]);Jl(!1!==window[Z(Oj,136,114,133)]);window.OS={S_:\"08f60ccc6b0180007c066b8db5c7dd04fbc0b983754a7739ff284ed81295b3c60051fae53835000056d9e9b6c2e0285c5c6b9bed47cdc97c27079eb67b30ad112f092494c0b95d41deab803688a6a6be6365fc2f087557c030360a791ba450ea56d890376fec594b67207352dafb96a4c7b65546ac466f3ff090a76d6ec9c2cfe2567ed8500098b8\"};\\nfunction iL(J){var L=+new Date,z;!document[O(47,160,164,148,161,168,130,148,155,148,146,163,158,161,112,155,155)]||L>Ol&&(l(669)?6E5:417835)>L-sl?z=Jl(!1):(z=Jl(_l&&!jL&&sl+LL<L),sl=L,_l||(_l=!0,lL(function(){_l=!1},l(355)?1:0)));return!(arguments[J]^z)}function l(J){return 874>J}(function IL(L){return L?0:IL(L)*IL(L)})(!0);})();}catch(x){}finally{ie9rgb4=void(0);};function ie9rgb4(a,b){return a>>b>>0};\\n\\r\\n})();\\r\\n\\r\\n</script>\\r\\n\\r\\n<script type=\"text/javascript\" src=\"/TSPD/08f09154e8ab20007cc17fc7e652615d989424b5b104792e4bc3808ac47671e59fb30ea9d7cc0faf?type=10\"></script>\\r\\n<noscript>Please enable JavaScript to view the page content.<br/>Your support ID is: 17160913564111210976.</noscript>\\r\\n</head><body>\\r\\n</body></html>'"
      ]
     },
     "execution_count": 19,
     "metadata": {},
     "output_type": "execute_result"
    }
   ],
   "source": [
    "url = \"https://apps3.health.ny.gov/doh2/applinks/cdmspr/2/counties?OpID=50502702\"\n",
    "\n",
    "headers = {\n",
    "    'User-Agent': 'My User Agent 1.0',\n",
    "    'From': 'youremail@domain.com'  # This is another valid field\n",
    "}\n",
    "\n",
    "response = requests.get(url, headers=headers)\n",
    "response.content"
   ]
  },
  {
   "cell_type": "code",
   "execution_count": 14,
   "metadata": {},
   "outputs": [
    {
     "data": {
      "text/plain": [
       "b'<!DOCTYPE html>\\r\\n<html><head>\\r\\n<meta http-equiv=\"Pragma\" content=\"no-cache\"/>\\r\\n<meta http-equiv=\"Expires\" content=\"-1\"/>\\r\\n<meta http-equiv=\"CacheControl\" content=\"no-cache\"/>\\r\\n<meta http-equiv=\"Content-Type\" content=\"text/html; charset=utf-8\"/>\\r\\n<link rel=\"shortcut icon\" href=\"data:;base64,iVBORw0KGgo=\"/>\\r\\n\\r\\n<script>\\r\\n\\r\\n(function(){\\r\\nwindow[\"bobcmn\"] = \"1111111010101020000000520000000520000000026a7a196b200000096300000000300000000300000006/TSPD/300000008TSPD_101300000005https3000000b008f09154e8ab2000e10fd005a9b5a32a2105cab885e823ef15b2af40cb60072a63b55066b5a7a60608780cfa5d0a2800781a3cd49949640a38b00164be9de1fba689197f010d809f3e8a6556793242d45681c6279e29be36200000000200000000\";\\r\\n\\r\\nwindow.JqKt=!!window.JqKt;try{(function(){(function SZ(){var S=!1;function I(S){for(var I=0;S--;)I+=O(document.documentElement,null);return I}function O(S,I){var L=\"vi\";I=I||new z;return _Z(S,function(S){S.setAttribute(\"data-\"+L,I.jl());return O(S,I)},null)}function z(){this.ZI=1;this.OI=0;this.Ss=this.ZI;this.o_=null;this.jl=function(){this.o_=this.OI+this.Ss;if(!isFinite(this.o_))return this.reset(),this.jl();this.OI=this.Ss;this.Ss=this.o_;this.o_=null;return this.Ss};this.reset=function(){this.ZI++;this.OI=0;this.Ss=this.ZI}}var ZZ=!1;\\nfunction L(S,I){var L=document.createElement(S);I=I||document.body;I.appendChild(L);L&&L.style&&(L.style.display=\"none\")}function sZ(I,L){L=L||I;var O=\"|\";function z(S){S=S.split(O);var I=[];for(var L=0;L<S.length;++L){var ZZ=\"\",sZ=S[L].split(\",\");for(var iZ=0;iZ<sZ.length;++iZ)ZZ+=sZ[iZ][iZ];I.push(ZZ)}return I}var sZ=0,_Z=\"datalist,details,embed,figure,hrimg,strong,article,formaddress|audio,blockquote,area,source,input|canvas,form,link,tbase,option,details,article\";_Z.split(O);_Z=z(_Z);_Z=new RegExp(_Z.join(O),\\n\"g\");while(_Z.exec(I))_Z=new RegExp((\"\"+new Date)[8],\"g\"),S&&(ZZ=!0),++sZ;return L(sZ&&1)}function _Z(S,I,O){(O=O||ZZ)&&L(\"div\",S);S=S.children;var z=0;for(var sZ in S){O=S[sZ];try{O instanceof HTMLElement&&(I(O),++z)}catch(_Z){}}return z}sZ(SZ,I)})();var IZ=30;\\ntry{var JZ,oZ,OZ=s(849)?0:1,Zs=s(537)?0:1,Ss=s(969)?0:1,_s=s(800)?0:1,Ls=s(845)?0:1;for(var zs=(s(156),0);zs<oZ;++zs)OZ+=(s(389),2),Zs+=(s(954),2),Ss+=s(572)?1:2,_s+=s(615)?1:2,Ls+=(s(919),3);JZ=OZ+Zs+Ss+_s+Ls;window.ss===JZ&&(window.ss=++JZ)}catch(_S){window.ss=JZ}var iS=!0;function _(Z){var S=arguments.length,I=[],O=1;while(O<S)I[O-1]=arguments[O++]-Z;return String.fromCharCode.apply(String,I)}\\nfunction jS(Z){var S=54;!Z||document[_(S,172,159,169,159,152,159,162,159,170,175,137,170,151,170,155)]&&document[_(S,172,159,169,159,152,159,162,159,170,175,137,170,151,170,155)]!==J(68616527612,S)||(iS=!1);return iS}function l(Z){var S=arguments.length,I=[];for(var O=1;O<S;++O)I.push(arguments[O]-Z);return String.fromCharCode.apply(String,I)}function JS(){}jS(window[JS[_(IZ,140,127,139,131)]]===JS);jS(typeof ie9rgb4!==J(1242178186169,IZ));\\njS(RegExp(\"\\\\x3c\")[J(1372175,IZ)](function(){return\"\\\\x3c\"})&!RegExp(J(42859,IZ))[J(1372175,IZ)](function(){return\"\\'x3\\'+\\'d\\';\"}));\\nvar LS=window[_(IZ,127,146,146,127,129,134,99,148,131,140,146)]||RegExp(l(IZ,139,141,128,135,154,127,140,130,144,141,135,130),J(-12,IZ))[l(IZ,146,131,145,146)](window[\"\\\\x6e\\\\x61vi\\\\x67a\\\\x74\\\\x6f\\\\x72\"][\"\\\\x75\\\\x73e\\\\x72A\\\\x67\\\\x65\\\\x6et\"]),zS=+new Date+(s(265)?6E5:653460),S_,I_,j_,J_=window[l(IZ,145,131,146,114,135,139,131,141,147,146)],l_=LS?s(660)?28052:3E4:s(363)?6E3:6932;\\ndocument[_(IZ,127,130,130,99,148,131,140,146,106,135,145,146,131,140,131,144)]&&document[l(IZ,127,130,130,99,148,131,140,146,106,135,145,146,131,140,131,144)](l(IZ,148,135,145,135,128,135,138,135,146,151,129,134,127,140,133,131),function(Z){var S=62;document[_(S,180,167,177,167,160,167,170,167,178,183,145,178,159,178,163)]&&(document[_(S,180,167,177,167,160,167,170,167,178,183,145,178,159,178,163)]===l(S,166,167,162,162,163,172)&&Z[_(S,167,177,146,176,179,177,178,163,162)]?j_=!0:document[l(S,180,\\n167,177,167,160,167,170,167,178,183,145,178,159,178,163)]===J(68616527604,S)&&(S_=+new Date,j_=!1,o_()))});function o_(){if(!document[_(3,116,120,104,117,124,86,104,111,104,102,119,114,117)])return!0;var Z=+new Date;if(Z>zS&&(s(647)?884417:6E5)>Z-S_)return jS(!1);var S=jS(I_&&!j_&&S_+l_<Z);S_=Z;I_||(I_=!0,J_(function(){I_=!1},s(531)?0:1));return S}o_();var O_=[s(362)?17795081:12455871,s(444)?2147483647:27611931586,s(596)?1159946332:1558153217];\\nfunction Zi(Z){var S=9;Z=typeof Z===J(1743045667,S)?Z:Z[l(S,125,120,92,125,123,114,119,112)](s(763)?34:36);var I=window[Z];if(!I[_(S,125,120,92,125,123,114,119,112)])return;var O=\"\"+I;window[Z]=function(Z,S){I_=!1;return I(Z,S)};window[Z][l(S,125,120,92,125,123,114,119,112)]=function(){return O}}for(var si=(s(197),0);si<O_[J(1294399175,IZ)];++si)Zi(O_[si]);jS(!1!==window[l(IZ,104,143,105,146)]);window.sS={I_:\"087501ba99018000d2b3a4f55adea83ca77ec42ab6b092bf7ef0d0c3838930b7e0eb51c28a34811edbcaab28539dac94ac3ab02e35f4b781cee75d0b262ffe577bf1e8725817e9a42bc4cd24fd86f2fe6f78d99ba3737ba85a3fe930c3a799b49f6e3744b347f64fbc0ac0038605d0f62999c335541f06a08e9075cd1b34122988114106fef6b1d2\"};\\nfunction Ii(Z){var S=+new Date,I;!document[l(17,130,134,118,131,138,100,118,125,118,116,133,128,131,82,125,125)]||S>zS&&(s(707)?672546:6E5)>S-S_?I=jS(!1):(I=jS(I_&&!j_&&S_+l_<S),S_=S,I_||(I_=!0,J_(function(){I_=!1},s(133)?1:0)));return!(arguments[Z]^I)}function s(Z){return 382>Z}function J(Z,S){Z+=S;return Z.toString(36)}(function ji(S){return S?0:ji(S)*ji(S)})(!0);})();}catch(x){}finally{ie9rgb4=void(0);};function ie9rgb4(a,b){return a>>b>>0};\\n\\r\\n})();\\r\\n\\r\\n</script>\\r\\n\\r\\n<script type=\"text/javascript\" src=\"/TSPD/08f09154e8ab2000f6cd0e6ffe1975ce5c3bc67cd69dcf7bfe3d7ab085f8b7c7c36ffb86ec0b3e7b?type=10\"></script>\\r\\n<noscript>Please enable JavaScript to view the page content.<br/>Your support ID is: 10971182189323455631.</noscript>\\r\\n</head><body>\\r\\n</body></html>'"
      ]
     },
     "execution_count": 14,
     "metadata": {},
     "output_type": "execute_result"
    }
   ],
   "source": [
    "page = requests.get(\"https://apps3.health.ny.gov/doh2/applinks/cdmspr/2/counties?OpID=50502702\")\n",
    "page.content"
   ]
  },
  {
   "cell_type": "code",
   "execution_count": 9,
   "metadata": {},
   "outputs": [],
   "source": [
    "from bs4 import BeautifulSoup\n",
    "soup = BeautifulSoup(page.content, 'html.parser')\n"
   ]
  },
  {
   "cell_type": "code",
   "execution_count": 16,
   "metadata": {},
   "outputs": [
    {
     "ename": "ModuleNotFoundError",
     "evalue": "No module named 'requests_html'",
     "output_type": "error",
     "traceback": [
      "\u001b[0;31m---------------------------------------------------------------------------\u001b[0m",
      "\u001b[0;31mModuleNotFoundError\u001b[0m                       Traceback (most recent call last)",
      "\u001b[0;32m<ipython-input-16-fb99ff61b2e8>\u001b[0m in \u001b[0;36m<module>\u001b[0;34m\u001b[0m\n\u001b[0;32m----> 1\u001b[0;31m \u001b[0;32mfrom\u001b[0m \u001b[0mrequests_html\u001b[0m \u001b[0;32mimport\u001b[0m \u001b[0mHTMLSession\u001b[0m\u001b[0;34m\u001b[0m\u001b[0;34m\u001b[0m\u001b[0m\n\u001b[0m\u001b[1;32m      2\u001b[0m \u001b[0msession\u001b[0m \u001b[0;34m=\u001b[0m \u001b[0mHTMLSession\u001b[0m\u001b[0;34m(\u001b[0m\u001b[0;34m)\u001b[0m\u001b[0;34m\u001b[0m\u001b[0;34m\u001b[0m\u001b[0m\n\u001b[1;32m      3\u001b[0m \u001b[0;34m\u001b[0m\u001b[0m\n\u001b[1;32m      4\u001b[0m \u001b[0mr\u001b[0m \u001b[0;34m=\u001b[0m \u001b[0msession\u001b[0m\u001b[0;34m.\u001b[0m\u001b[0mget\u001b[0m\u001b[0;34m(\u001b[0m\u001b[0;34m'http://python-requests.org/'\u001b[0m\u001b[0;34m)\u001b[0m\u001b[0;34m\u001b[0m\u001b[0;34m\u001b[0m\u001b[0m\n",
      "\u001b[0;31mModuleNotFoundError\u001b[0m: No module named 'requests_html'"
     ]
    }
   ],
   "source": [
    "from requests_html import HTMLSession\n",
    "session = HTMLSession()\n",
    "\n",
    "r = session.get('http://python-requests.org/')"
   ]
  },
  {
   "cell_type": "code",
   "execution_count": null,
   "metadata": {},
   "outputs": [],
   "source": []
  }
 ],
 "metadata": {
  "kernelspec": {
   "display_name": "Python 3",
   "language": "python",
   "name": "python3"
  },
  "language_info": {
   "codemirror_mode": {
    "name": "ipython",
    "version": 3
   },
   "file_extension": ".py",
   "mimetype": "text/x-python",
   "name": "python",
   "nbconvert_exporter": "python",
   "pygments_lexer": "ipython3",
   "version": "3.7.7"
  }
 },
 "nbformat": 4,
 "nbformat_minor": 4
}
