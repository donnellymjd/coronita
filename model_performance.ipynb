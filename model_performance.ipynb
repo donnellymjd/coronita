{
 "cells": [
  {
   "cell_type": "code",
   "execution_count": 1,
   "metadata": {},
   "outputs": [],
   "source": [
    "import pandas as pd\n",
    "import numpy as np\n",
    "import os, time, stat, io, glob, pickle\n",
    "from scipy.stats import gamma, norm\n",
    "from sklearn.linear_model import LinearRegression\n",
    "from IPython.core.display import display, HTML\n",
    "\n",
    "import matplotlib.pyplot as plt\n",
    "import matplotlib as mpl\n",
    "plt.style.use('fivethirtyeight')\n",
    "import plotly.io as pio\n",
    "\n",
    "%load_ext autoreload\n",
    "%autoreload 2\n",
    "from covid_data_helper import *\n",
    "from coronita_chart_helper import *\n",
    "from coronita_model_helper import *\n",
    "from coronita_web_helper import *\n",
    "from coronita_bokeh_helper import *\n",
    "\n",
    "from matplotlib.backends.backend_pdf import PdfPages\n"
   ]
  },
  {
   "cell_type": "code",
   "execution_count": 2,
   "metadata": {},
   "outputs": [
    {
     "name": "stdout",
     "output_type": "stream",
     "text": [
      "State Testing Data Last Observation:  20210307\n",
      "Got COVID19 Tracking Data\n",
      "Got CDC Death Data\n",
      "Got HHS testing data\n",
      "Got HHS hospital data.\n",
      "Got Census Data\n",
      "Got counties geo json\n",
      "Got JHU county level data.\n",
      "Got KFF Policy dates\n",
      "Got Google Movement Data\n",
      "Got NYS DOH data\n",
      "Got NYT county level data.\n",
      "Got NYC DOH data\n",
      "Got Complete County Time Series Data\n",
      "Got HHS hospitalization data.\n",
      "Got COVID Act Now data.\n"
     ]
    }
   ],
   "source": [
    "## DATA INGESTION ##\n",
    "\n",
    "df_st_testing = get_covid19_tracking_data()\n",
    "\n",
    "df_census = get_census_pop()\n",
    "\n",
    "counties_geo = get_counties_geo()\n",
    "\n",
    "df_jhu_counties = get_jhu_counties()\n",
    "\n",
    "df_st_testing_fmt = df_st_testing.copy()\n",
    "df_st_testing_fmt = df_st_testing_fmt.rename(columns={'death':'deaths','positive':'cases'}).unstack('code')\n",
    "\n",
    "df_interventions = get_state_policy_events()\n",
    "\n",
    "df_goog_mob_us = get_goog_mvmt_us()\n",
    "df_goog_mob_state = get_goog_mvmt_state(df_goog_mob_us)\n",
    "# df_goog_mob_us = df_goog_mob_us[df_goog_mob_us.state.isnull()].set_index('dt')\n",
    "\n",
    "df_counties = get_complete_county_data(df_census, df_goog_mob_us)\n",
    "\n",
    "df_hhs_hosp = get_hhs_hosp()\n",
    "\n",
    "df_can = get_can_data()\n",
    "\n",
    "## MODEL PARAMETERS ##\n",
    "\n",
    "covid_params = {}\n",
    "covid_params['d_incub'] = 3.\n",
    "covid_params['d_infect'] = 4.\n",
    "covid_params['mort_rt'] = 0.01\n",
    "covid_params['d_in_hosp'] = 11\n",
    "covid_params['hosp_rt'] = 0.04\n",
    "covid_params['d_to_hosp'] = 7.0\n",
    "covid_params['d_in_hosp_mild'] = 11.0\n",
    "covid_params['icu_rt'] = 13./41.\n",
    "covid_params['d_in_icu'] = 13.0\n",
    "covid_params['vent_rt'] = 0.4\n",
    "covid_params['d_til_death'] =  17.0\n",
    "covid_params['policy_trigger'] = True\n",
    "covid_params['policy_trigger_once'] = True\n"
   ]
  },
  {
   "cell_type": "code",
   "execution_count": 3,
   "metadata": {},
   "outputs": [
    {
     "name": "stdout",
     "output_type": "stream",
     "text": [
      "./output/df_fore_allstates_20210607.pkl\n"
     ]
    }
   ],
   "source": [
    "list_of_files = glob.glob('./output/df_fore_allstates_*.pkl') # * means all if need specific format then *.csv\n",
    "latest_file = max(list_of_files, key=os.path.getctime)\n",
    "print(latest_file)\n",
    "df_fore_allstates = pd.read_pickle(latest_file)\n"
   ]
  },
  {
   "cell_type": "code",
   "execution_count": 4,
   "metadata": {},
   "outputs": [
    {
     "name": "stdout",
     "output_type": "stream",
     "text": [
      "./output/df_wavg_rt_conf_allregs_20210607.pkl\n"
     ]
    }
   ],
   "source": [
    "list_of_files = glob.glob('./output/df_wavg_rt_conf_allregs_*.pkl') # * means all if need specific format then *.csv\n",
    "latest_file = max(list_of_files, key=os.path.getctime)\n",
    "print(latest_file)\n",
    "df_wavg_rt_conf_allregs = pd.read_pickle(latest_file)"
   ]
  },
  {
   "cell_type": "code",
   "execution_count": 5,
   "metadata": {},
   "outputs": [
    {
     "name": "stdout",
     "output_type": "stream",
     "text": [
      "./output/allstate_model_dicts_20210607.pkl\n"
     ]
    }
   ],
   "source": [
    "list_of_files = glob.glob('./output/allstate_model_dicts_*.pkl') # * means all if need specific format then *.csv\n",
    "latest_file = max(list_of_files, key=os.path.getctime)\n",
    "print(latest_file)\n",
    "with open(latest_file, 'rb') as handle:\n",
    "    allstate_model_dicts = pickle.load(handle)\n",
    "    "
   ]
  },
  {
   "cell_type": "markdown",
   "metadata": {},
   "source": [
    "## Forecast after vaccination model change"
   ]
  },
  {
   "cell_type": "code",
   "execution_count": 28,
   "metadata": {},
   "outputs": [],
   "source": [
    "this_dt = '20210512'\n",
    "df_fore_allstates = pd.read_pickle(f'./output/df_fore_allstates_{this_dt}.pkl')\n",
    "df_wavg_rt_conf_allregs = pd.read_pickle(f'./output/df_wavg_rt_conf_allregs_{this_dt}.pkl')\n",
    "with open(f'./output/allstate_model_dicts_{this_dt}.pkl', 'rb') as handle:\n",
    "    allstate_model_dicts = pickle.load(handle)"
   ]
  },
  {
   "cell_type": "code",
   "execution_count": 29,
   "metadata": {},
   "outputs": [
    {
     "data": {
      "text/plain": [
       "<matplotlib.axes._subplots.AxesSubplot at 0x7f8804bab050>"
      ]
     },
     "execution_count": 29,
     "metadata": {},
     "output_type": "execute_result"
    },
    {
     "data": {
      "image/png": "[encoded data removed]",
      "text/plain": [
       "<Figure size 432x288 with 1 Axes>"
      ]
     },
     "metadata": {},
     "output_type": "display_data"
    }
   ],
   "source": [
    "us_cases = df_st_testing_fmt['cases'][df_census.state.unique()].sum(axis=1, skipna=False).dropna().diff()\n",
    "df_fore_allstates['US'].unstack('metric').loc['2021-03-01':'2021-06-15', 'exposed_daily'].plot()\n",
    "us_cases.loc['2021-03-01':'2021-06-15'].rolling(7).mean().plot()"
   ]
  },
  {
   "cell_type": "code",
   "execution_count": 21,
   "metadata": {},
   "outputs": [
    {
     "data": {
      "text/plain": [
       "dt\n",
       "2020-04-20        NaN\n",
       "2020-04-21    33923.0\n",
       "2020-04-22    36232.0\n",
       "2020-04-23    35714.0\n",
       "2020-04-24    38665.0\n",
       "               ...   \n",
       "2021-05-26    20932.0\n",
       "2021-05-27    19412.0\n",
       "2021-05-28    16706.0\n",
       "2021-05-29    13076.0\n",
       "2021-05-30     9173.0\n",
       "Length: 404, dtype: float64"
      ]
     },
     "execution_count": 21,
     "metadata": {},
     "output_type": "execute_result"
    }
   ],
   "source": []
  },
  {
   "cell_type": "code",
   "execution_count": null,
   "metadata": {},
   "outputs": [],
   "source": []
  }
 ],
 "metadata": {
  "kernelspec": {
   "display_name": "Python 3",
   "language": "python",
   "name": "python3"
  },
  "language_info": {
   "codemirror_mode": {
    "name": "ipython",
    "version": 3
   },
   "file_extension": ".py",
   "mimetype": "text/x-python",
   "name": "python",
   "nbconvert_exporter": "python",
   "pygments_lexer": "ipython3",
   "version": "3.7.7"
  }
 },
 "nbformat": 4,
 "nbformat_minor": 4
}
